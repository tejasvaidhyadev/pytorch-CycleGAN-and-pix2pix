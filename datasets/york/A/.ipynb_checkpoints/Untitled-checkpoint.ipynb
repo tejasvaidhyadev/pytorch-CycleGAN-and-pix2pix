{
 "cells": [
  {
   "cell_type": "code",
   "execution_count": 2,
   "metadata": {
    "collapsed": true
   },
   "outputs": [],
   "source": [
    "import os \n",
    "import shutil"
   ]
  },
  {
   "cell_type": "code",
   "execution_count": null,
   "metadata": {
    "collapsed": true
   },
   "outputs": [],
   "source": []
  },
  {
   "cell_type": "code",
   "execution_count": null,
   "metadata": {
    "collapsed": true
   },
   "outputs": [],
   "source": [
    "dir_test = \"\""
   ]
  },
  {
   "cell_type": "code",
   "execution_count": null,
   "metadata": {
    "collapsed": true
   },
   "outputs": [],
   "source": [
    "import os \n",
    "import shutil\n",
    "\n",
    "dir_test = 'E:\\Tejas_pix\\pytorch-CycleGAN-and-pix2pix\\datasets\\york\\_train\\_test'\n",
    "dir_train = 'E:\\Tejas_pix\\pytorch-CycleGAN-and-pix2pix\\datasets\\york\\_train\\_train'\n",
    "\n",
    "for (dirpath, dirnames, filenames) in os.walk(dir_test):\n",
    "    print(filenames)\n",
    "\n",
    "arr1 = os.listdir('E:\\Tejas_pix\\pytorch-CycleGAN-and-pix2pix\\datasets\\york\\_train')\n",
    "\n",
    "\n",
    "Y = []\n",
    "X = []\n",
    "\n",
    "for i in arr1:\n",
    "    flag = 0\n",
    "    val = str(i)\n",
    "    for j in range(0,len(val)):\n",
    "        if(val[j] == '_'):\n",
    "            flag = 1\n",
    "            break\n",
    "    if(flag == 1):\n",
    "        X.append(i)\n",
    "        flag = 0\n",
    "        src = 'E:/Tejas_pix/pytorch-CycleGAN-and-pix2pix/datasets/york/_train/' + i\n",
    "        dest =  'E:/Tejas_pix/pytorch-CycleGAN-and-pix2pix/datasets/york/X/'   + i\n",
    "        shutil.move(src,dest)\n",
    "\n",
    "    else:\n",
    "        Y.append(i)\n",
    "        src = 'E:/Tejas_pix/pytorch-CycleGAN-and-pix2pix/datasets/york/_train/' + i\n",
    "        dest =  'E:/Tejas_pix/pytorch-CycleGAN-and-pix2pix/datasets/york/Y/'   + i\n",
    "        shutil.move(src,dest)\n",
    "\n",
    "\n",
    "arr2 = os.listdir('E:\\Tejas_pix\\pytorch-CycleGAN-and-pix2pix\\datasets\\york\\_test')\n",
    "\n",
    "for i in arr2:\n",
    "    flag = 0\n",
    "    val = str(i)\n",
    "    for j in range(0,len(val)):\n",
    "        if(val[j] == '_'):\n",
    "            flag = 1\n",
    "            break\n",
    "    if(flag == 1):\n",
    "        X.append(i)\n",
    "        src = 'E:/Tejas_pix/pytorch-CycleGAN-and-pix2pix/datasets/york/_test/' + i\n",
    "        dest =  'E:/Tejas_pix/pytorch-CycleGAN-and-pix2pix/datasets/york/X/'   + i\n",
    "        shutil.move(src,dest)\n",
    "        flag = 0\n",
    "    else:\n",
    "        Y.append(i)\n",
    "        src = 'E:/Tejas_pix/pytorch-CycleGAN-and-pix2pix/datasets/york/_test/' + i\n",
    "        dest =  'E:/Tejas_pix/pytorch-CycleGAN-and-pix2pix/datasets/york/Y/'   + i\n",
    "        shutil.move(src,dest)\n",
    "\n",
    "\n",
    "\n",
    "# print(\"\\nthe lists are\")\n",
    "print(Y)\n",
    "print(\"\\n\")\n",
    "print(X)\n",
    "\n",
    "# print(type(Y[0]))\n",
    "# import pathlib\n",
    "\n",
    "# flist = []\n",
    "# for p in pathlib.Path('E:\\Tejas_pix\\pytorch-CycleGAN-and-pix2pix\\datasets').iterdir():\n",
    "#     if p.is_file():\n",
    "#         print(p)\n",
    "#         flist.append(p)"
   ]
  }
 ],
 "metadata": {
  "kernelspec": {
   "display_name": "Python 3",
   "language": "python",
   "name": "python3"
  },
  "language_info": {
   "codemirror_mode": {
    "name": "ipython",
    "version": 3
   },
   "file_extension": ".py",
   "mimetype": "text/x-python",
   "name": "python",
   "nbconvert_exporter": "python",
   "pygments_lexer": "ipython3",
   "version": "3.6.3"
  }
 },
 "nbformat": 4,
 "nbformat_minor": 2
}
